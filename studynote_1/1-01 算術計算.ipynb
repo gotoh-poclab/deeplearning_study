{
 "cells": [
  {
   "cell_type": "markdown",
   "id": "2e440311",
   "metadata": {},
   "source": [
    "# 算術計算の基本"
   ]
  },
  {
   "cell_type": "markdown",
   "id": "4f6bdea5",
   "metadata": {},
   "source": [
    "# 足し算"
   ]
  },
  {
   "cell_type": "code",
   "execution_count": 1,
   "id": "d5def8ee",
   "metadata": {},
   "outputs": [
    {
     "data": {
      "text/plain": [
       "2"
      ]
     },
     "execution_count": 1,
     "metadata": {},
     "output_type": "execute_result"
    }
   ],
   "source": [
    "1+1"
   ]
  },
  {
   "cell_type": "markdown",
   "id": "6b28dfd9",
   "metadata": {},
   "source": [
    "# 引き算"
   ]
  },
  {
   "cell_type": "code",
   "execution_count": 2,
   "id": "2d79bf64",
   "metadata": {},
   "outputs": [
    {
     "data": {
      "text/plain": [
       "1"
      ]
     },
     "execution_count": 2,
     "metadata": {},
     "output_type": "execute_result"
    }
   ],
   "source": [
    "2-1"
   ]
  },
  {
   "cell_type": "markdown",
   "id": "69734b3b",
   "metadata": {},
   "source": [
    "# 割り算"
   ]
  },
  {
   "cell_type": "code",
   "execution_count": 1,
   "id": "2950ebe7",
   "metadata": {},
   "outputs": [
    {
     "data": {
      "text/plain": [
       "1.4"
      ]
     },
     "execution_count": 1,
     "metadata": {},
     "output_type": "execute_result"
    }
   ],
   "source": [
    "7/5"
   ]
  },
  {
   "cell_type": "markdown",
   "id": "cdadde59",
   "metadata": {},
   "source": [
    "# 累乗"
   ]
  },
  {
   "cell_type": "code",
   "execution_count": 2,
   "id": "9b8f7784",
   "metadata": {},
   "outputs": [
    {
     "data": {
      "text/plain": [
       "9"
      ]
     },
     "execution_count": 2,
     "metadata": {},
     "output_type": "execute_result"
    }
   ],
   "source": [
    "3 ** 2"
   ]
  },
  {
   "cell_type": "markdown",
   "id": "34e74326",
   "metadata": {},
   "source": [
    "# 割った時の整数の商"
   ]
  },
  {
   "cell_type": "code",
   "execution_count": 3,
   "id": "1b1a9999",
   "metadata": {},
   "outputs": [
    {
     "data": {
      "text/plain": [
       "3"
      ]
     },
     "execution_count": 3,
     "metadata": {},
     "output_type": "execute_result"
    }
   ],
   "source": [
    "10 // 3"
   ]
  },
  {
   "cell_type": "markdown",
   "id": "089fffa2",
   "metadata": {},
   "source": [
    "# 割った時の余り"
   ]
  },
  {
   "cell_type": "code",
   "execution_count": 5,
   "id": "b9b3a8c3",
   "metadata": {},
   "outputs": [
    {
     "data": {
      "text/plain": [
       "1"
      ]
     },
     "execution_count": 5,
     "metadata": {},
     "output_type": "execute_result"
    }
   ],
   "source": [
    "10 % 3"
   ]
  },
  {
   "cell_type": "markdown",
   "id": "43661637",
   "metadata": {},
   "source": [
    "# 数学の補足 "
   ]
  },
  {
   "cell_type": "markdown",
   "id": "8bd89d50",
   "metadata": {},
   "source": [
    "- mathモジュールとは、数学的な計算をするのに役立つ標準モジュール\n",
    "- 標準ライブラリとは、特にインストールをしなくてもPythonに最初から準備されているライブラリ\n",
    "- import mathと記述するだけでimportできる\n",
    "- \n",
    "https://docs.python.org/ja/3/library/math.html"
   ]
  },
  {
   "cell_type": "code",
   "execution_count": 17,
   "id": "b72a53f7",
   "metadata": {},
   "outputs": [],
   "source": [
    "import math"
   ]
  },
  {
   "cell_type": "markdown",
   "id": "843ee8b3",
   "metadata": {},
   "source": [
    "円周率"
   ]
  },
  {
   "cell_type": "code",
   "execution_count": 11,
   "id": "9cc322a8",
   "metadata": {},
   "outputs": [
    {
     "data": {
      "text/plain": [
       "3.141592653589793"
      ]
     },
     "execution_count": 11,
     "metadata": {},
     "output_type": "execute_result"
    }
   ],
   "source": [
    "math.pi"
   ]
  },
  {
   "cell_type": "markdown",
   "id": "9ec404a3",
   "metadata": {},
   "source": [
    "切り上げをして整数"
   ]
  },
  {
   "cell_type": "code",
   "execution_count": 12,
   "id": "d00ee181",
   "metadata": {},
   "outputs": [
    {
     "data": {
      "text/plain": [
       "5"
      ]
     },
     "execution_count": 12,
     "metadata": {},
     "output_type": "execute_result"
    }
   ],
   "source": [
    "math.ceil(4.2)"
   ]
  },
  {
   "cell_type": "markdown",
   "id": "d1796468",
   "metadata": {},
   "source": [
    "切り捨てをして整数"
   ]
  },
  {
   "cell_type": "code",
   "execution_count": 14,
   "id": "90ca77d2",
   "metadata": {},
   "outputs": [
    {
     "data": {
      "text/plain": [
       "5"
      ]
     },
     "execution_count": 14,
     "metadata": {},
     "output_type": "execute_result"
    }
   ],
   "source": [
    "math.ceil(4.6)"
   ]
  },
  {
   "cell_type": "markdown",
   "id": "0e4fbbe6",
   "metadata": {},
   "source": [
    "ルートをつけた値を返します。"
   ]
  },
  {
   "cell_type": "code",
   "execution_count": 15,
   "id": "92b722b4",
   "metadata": {},
   "outputs": [
    {
     "data": {
      "text/plain": [
       "1.4142135623730951"
      ]
     },
     "execution_count": 15,
     "metadata": {},
     "output_type": "execute_result"
    }
   ],
   "source": [
    "math.sqrt(2)"
   ]
  },
  {
   "cell_type": "markdown",
   "id": "ad557cb7",
   "metadata": {},
   "source": [
    "xとyの最大公約数を返す"
   ]
  },
  {
   "cell_type": "code",
   "execution_count": 16,
   "id": "c0bb072b",
   "metadata": {},
   "outputs": [
    {
     "data": {
      "text/plain": [
       "6"
      ]
     },
     "execution_count": 16,
     "metadata": {},
     "output_type": "execute_result"
    }
   ],
   "source": [
    "math.gcd(18,30)"
   ]
  }
 ],
 "metadata": {
  "kernelspec": {
   "display_name": "Python 3",
   "language": "python",
   "name": "python3"
  },
  "language_info": {
   "codemirror_mode": {
    "name": "ipython",
    "version": 3
   },
   "file_extension": ".py",
   "mimetype": "text/x-python",
   "name": "python",
   "nbconvert_exporter": "python",
   "pygments_lexer": "ipython3",
   "version": "3.8.10"
  }
 },
 "nbformat": 4,
 "nbformat_minor": 5
}
