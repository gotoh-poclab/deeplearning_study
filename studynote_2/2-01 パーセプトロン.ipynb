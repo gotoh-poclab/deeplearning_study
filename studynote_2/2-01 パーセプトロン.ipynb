{
 "cells": [
  {
   "cell_type": "markdown",
   "id": "80ff6cb3",
   "metadata": {
    "slideshow": {
     "slide_type": "slide"
    }
   },
   "source": [
    "# パーセプトロンとは"
   ]
  },
  {
   "cell_type": "markdown",
   "id": "d5d19669",
   "metadata": {
    "slideshow": {
     "slide_type": "slide"
    }
   },
   "source": [
    "## 動作原理は、これだけ"
   ]
  },
  {
   "cell_type": "markdown",
   "id": "9f8ea35e",
   "metadata": {},
   "source": [
    "$$\n",
    "    y =\n",
    "        \\begin{cases}\n",
    "            0 (w1x1 + w2x2) \\\\\n",
    "             1 (w1x1 + w2x2) \\\\\n",
    "        \\end{cases}\n",
    "$$"
   ]
  },
  {
   "cell_type": "markdown",
   "id": "dec21fa4",
   "metadata": {},
   "source": [
    "重みが大きければ大きいほど、その重みに対応する信号の重要性が高くなる！"
   ]
  },
  {
   "cell_type": "markdown",
   "id": "5c5e095f",
   "metadata": {
    "slideshow": {
     "slide_type": "slide"
    }
   },
   "source": [
    "### ANDゲート"
   ]
  },
  {
   "cell_type": "markdown",
   "id": "ceaa6f42",
   "metadata": {
    "slideshow": {
     "slide_type": "-"
    }
   },
   "source": [
    "| x1 | x2 | y |\n",
    "| :--- | :---: | ---: |\n",
    "|   1   |   0   |   0   |\n",
    "|   1 |   0   |   0     |\n",
    "|   0 |   1   |   0     |\n",
    "|   1 |    1   |    1    |"
   ]
  },
  {
   "cell_type": "markdown",
   "id": "69ace648",
   "metadata": {
    "slideshow": {
     "slide_type": "slide"
    }
   },
   "source": [
    "### NANDゲートとORゲート"
   ]
  },
  {
   "cell_type": "markdown",
   "id": "90ec3894",
   "metadata": {},
   "source": [
    "| x1 | x2 | y |\n",
    "| :--- | :---: | ---: |\n",
    "|   0   |   0   |   1   |\n",
    "|   1 |   0   |   1     |\n",
    "|   0 |   1   |   1    |\n",
    "|   1 |    1   |    0    |"
   ]
  },
  {
   "cell_type": "markdown",
   "id": "f53d1e68",
   "metadata": {
    "slideshow": {
     "slide_type": "slide"
    }
   },
   "source": [
    "### NANDゲート"
   ]
  },
  {
   "cell_type": "markdown",
   "id": "43376a51",
   "metadata": {},
   "source": [
    "| x1 | x2 | y |\n",
    "| :--- | :---: | ---: |\n",
    "|   0   |   0   |   0   |\n",
    "|   1 |   0   |   1     |\n",
    "|   0 |   1   |   1     |\n",
    "|   1 |    1   |    1    |"
   ]
  },
  {
   "cell_type": "markdown",
   "id": "8d502f1d",
   "metadata": {
    "slideshow": {
     "slide_type": "slide"
    }
   },
   "source": [
    "# パーセプトロンの実装"
   ]
  },
  {
   "cell_type": "code",
   "execution_count": 2,
   "id": "9e735de2",
   "metadata": {},
   "outputs": [],
   "source": [
    "def AND (x1, x2):\n",
    "    w1, w2, theta = 0.5, 0.5, 0.7\n",
    "    tmp = x1*w1 + x2*w2\n",
    "    if tmp <= theta:\n",
    "        return 0\n",
    "    elif tmp > theta:\n",
    "        return 1"
   ]
  },
  {
   "cell_type": "code",
   "execution_count": 3,
   "id": "10461594",
   "metadata": {},
   "outputs": [
    {
     "data": {
      "text/plain": [
       "0"
      ]
     },
     "execution_count": 3,
     "metadata": {},
     "output_type": "execute_result"
    }
   ],
   "source": [
    "AND(0, 0)"
   ]
  },
  {
   "cell_type": "code",
   "execution_count": 4,
   "id": "769164e2",
   "metadata": {},
   "outputs": [
    {
     "data": {
      "text/plain": [
       "0"
      ]
     },
     "execution_count": 4,
     "metadata": {},
     "output_type": "execute_result"
    }
   ],
   "source": [
    "AND(1, 0)"
   ]
  },
  {
   "cell_type": "code",
   "execution_count": 5,
   "id": "3a2c58f8",
   "metadata": {},
   "outputs": [
    {
     "data": {
      "text/plain": [
       "0"
      ]
     },
     "execution_count": 5,
     "metadata": {},
     "output_type": "execute_result"
    }
   ],
   "source": [
    "AND(0, 1)"
   ]
  },
  {
   "cell_type": "code",
   "execution_count": 6,
   "id": "5e2d9ce3",
   "metadata": {},
   "outputs": [
    {
     "data": {
      "text/plain": [
       "1"
      ]
     },
     "execution_count": 6,
     "metadata": {},
     "output_type": "execute_result"
    }
   ],
   "source": [
    "AND(1, 1)"
   ]
  },
  {
   "cell_type": "markdown",
   "id": "3b9297ae",
   "metadata": {
    "slideshow": {
     "slide_type": "slide"
    }
   },
   "source": [
    "# 重みとバイアスの導入"
   ]
  },
  {
   "cell_type": "code",
   "execution_count": null,
   "id": "41567ac1",
   "metadata": {},
   "outputs": [],
   "source": []
  },
  {
   "cell_type": "code",
   "execution_count": null,
   "id": "27730fd6",
   "metadata": {},
   "outputs": [],
   "source": []
  },
  {
   "cell_type": "markdown",
   "id": "cbe2413e",
   "metadata": {},
   "source": [
    "# 重みとバイアスによる実装"
   ]
  },
  {
   "cell_type": "code",
   "execution_count": null,
   "id": "e11825b9",
   "metadata": {},
   "outputs": [],
   "source": []
  },
  {
   "cell_type": "code",
   "execution_count": null,
   "id": "2e0666bf",
   "metadata": {},
   "outputs": [],
   "source": []
  },
  {
   "cell_type": "code",
   "execution_count": null,
   "id": "a9c89c01",
   "metadata": {},
   "outputs": [],
   "source": []
  }
 ],
 "metadata": {
  "celltoolbar": "Slideshow",
  "kernelspec": {
   "display_name": "Python 3",
   "language": "python",
   "name": "python3"
  },
  "language_info": {
   "codemirror_mode": {
    "name": "ipython",
    "version": 3
   },
   "file_extension": ".py",
   "mimetype": "text/x-python",
   "name": "python",
   "nbconvert_exporter": "python",
   "pygments_lexer": "ipython3",
   "version": "3.8.10"
  }
 },
 "nbformat": 4,
 "nbformat_minor": 5
}
