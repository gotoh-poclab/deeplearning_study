{
 "cells": [
  {
   "cell_type": "markdown",
   "id": "c9bb11d3",
   "metadata": {
    "slideshow": {
     "slide_type": "slide"
    }
   },
   "source": [
    "# 4次元配列"
   ]
  },
  {
   "cell_type": "code",
   "execution_count": 1,
   "id": "e4a62f6e",
   "metadata": {
    "slideshow": {
     "slide_type": "slide"
    }
   },
   "outputs": [],
   "source": [
    "import numpy as np"
   ]
  },
  {
   "cell_type": "code",
   "execution_count": 2,
   "id": "f4b1e53a",
   "metadata": {},
   "outputs": [
    {
     "data": {
      "text/plain": [
       "(10, 1, 28, 28)"
      ]
     },
     "execution_count": 2,
     "metadata": {},
     "output_type": "execute_result"
    }
   ],
   "source": [
    "x = np.random.rand(10, 1, 28, 28)\n",
    "x.shape"
   ]
  },
  {
   "cell_type": "code",
   "execution_count": 3,
   "id": "57b9b768",
   "metadata": {},
   "outputs": [
    {
     "data": {
      "text/plain": [
       "(1, 28, 28)"
      ]
     },
     "execution_count": 3,
     "metadata": {},
     "output_type": "execute_result"
    }
   ],
   "source": [
    "x[0].shape"
   ]
  },
  {
   "cell_type": "code",
   "execution_count": 4,
   "id": "431da7bb",
   "metadata": {},
   "outputs": [
    {
     "data": {
      "text/plain": [
       "(1, 28, 28)"
      ]
     },
     "execution_count": 4,
     "metadata": {},
     "output_type": "execute_result"
    }
   ],
   "source": [
    "x[1].shape"
   ]
  },
  {
   "cell_type": "code",
   "execution_count": 5,
   "id": "80dd5d50",
   "metadata": {
    "slideshow": {
     "slide_type": "slide"
    }
   },
   "outputs": [
    {
     "data": {
      "text/plain": [
       "array([[0.65187362, 0.60012904, 0.26511624, 0.85292039, 0.80469193,\n",
       "        0.81274199, 0.4212184 , 0.87862456, 0.64918199, 0.90080697,\n",
       "        0.86267839, 0.50647874, 0.68340596, 0.98047985, 0.79272677,\n",
       "        0.89297075, 0.03173133, 0.52021665, 0.01609955, 0.18907944,\n",
       "        0.45985151, 0.74087631, 0.24270066, 0.29802283, 0.05582333,\n",
       "        0.51486396, 0.51612213, 0.77655281],\n",
       "       [0.96456354, 0.66310013, 0.46156303, 0.022993  , 0.54205346,\n",
       "        0.18652981, 0.43245519, 0.01321801, 0.62567453, 0.19089897,\n",
       "        0.22184716, 0.77320514, 0.17378537, 0.23738171, 0.01249535,\n",
       "        0.18067213, 0.33862731, 0.98894675, 0.12368202, 0.45759079,\n",
       "        0.18065866, 0.10463561, 0.93816261, 0.15183173, 0.08486916,\n",
       "        0.56931042, 0.98933188, 0.32796176],\n",
       "       [0.30638862, 0.47945884, 0.24983422, 0.71458711, 0.86186869,\n",
       "        0.53772597, 0.41917591, 0.92895879, 0.44730243, 0.07263784,\n",
       "        0.86326246, 0.13803531, 0.0121952 , 0.36629033, 0.28085049,\n",
       "        0.1734872 , 0.25348527, 0.68076789, 0.66818751, 0.74810903,\n",
       "        0.92741498, 0.71763276, 0.98288807, 0.44834919, 0.16837882,\n",
       "        0.20622047, 0.02098698, 0.86012757],\n",
       "       [0.80912135, 0.77239044, 0.15730333, 0.27205879, 0.97318808,\n",
       "        0.47700645, 0.26738379, 0.382927  , 0.136678  , 0.7043074 ,\n",
       "        0.05445921, 0.62510729, 0.06803325, 0.23380955, 0.08422246,\n",
       "        0.61256851, 0.77548232, 0.01888326, 0.58745118, 0.54532433,\n",
       "        0.46409794, 0.4026603 , 0.88457394, 0.12361276, 0.12642635,\n",
       "        0.4045724 , 0.26829914, 0.87861065],\n",
       "       [0.3514676 , 0.68402558, 0.42587885, 0.57652157, 0.01126091,\n",
       "        0.49946138, 0.98563443, 0.73477018, 0.35541917, 0.69543167,\n",
       "        0.41447913, 0.81816462, 0.66203404, 0.59299594, 0.56214075,\n",
       "        0.83042193, 0.85356444, 0.12587172, 0.89486923, 0.28213178,\n",
       "        0.77884185, 0.91922992, 0.37281114, 0.48857973, 0.35525019,\n",
       "        0.04953821, 0.96060772, 0.35216164],\n",
       "       [0.28761381, 0.6584248 , 0.28302002, 0.87962687, 0.0331389 ,\n",
       "        0.47066135, 0.48761653, 0.96154645, 0.73958452, 0.97685837,\n",
       "        0.89420131, 0.95074379, 0.7032067 , 0.73019235, 0.56341307,\n",
       "        0.30455846, 0.76152475, 0.44695337, 0.0153108 , 0.86111598,\n",
       "        0.87672245, 0.14326073, 0.86399062, 0.43153916, 0.73327367,\n",
       "        0.27928122, 0.34206715, 0.61972466],\n",
       "       [0.95117944, 0.67568152, 0.76787395, 0.58610198, 0.3453943 ,\n",
       "        0.24023249, 0.79117283, 0.14112854, 0.59372308, 0.7807579 ,\n",
       "        0.54584969, 0.40145989, 0.8126612 , 0.57228614, 0.8531863 ,\n",
       "        0.1633333 , 0.75576979, 0.10353934, 0.37379094, 0.66679672,\n",
       "        0.9339774 , 0.45322056, 0.46578777, 0.69064179, 0.2196412 ,\n",
       "        0.66885313, 0.81909268, 0.81651768],\n",
       "       [0.01346914, 0.86516108, 0.96811971, 0.53200243, 0.92350179,\n",
       "        0.12168006, 0.71069097, 0.37694251, 0.43967436, 0.2729503 ,\n",
       "        0.76238098, 0.90280768, 0.26016278, 0.68556974, 0.33374631,\n",
       "        0.64890708, 0.29394469, 0.91121269, 0.43530057, 0.73844159,\n",
       "        0.70480524, 0.18375092, 0.76506028, 0.21193645, 0.75815011,\n",
       "        0.73410273, 0.41124547, 0.62791982],\n",
       "       [0.43941778, 0.6071855 , 0.58904508, 0.45290437, 0.69659036,\n",
       "        0.09317301, 0.61701659, 0.93271879, 0.49891327, 0.60424234,\n",
       "        0.61103731, 0.20539814, 0.52399665, 0.79243762, 0.26468291,\n",
       "        0.469983  , 0.29712869, 0.91534648, 0.04542449, 0.17747729,\n",
       "        0.54176552, 0.27597117, 0.64038807, 0.44156542, 0.59558967,\n",
       "        0.73929892, 0.04803423, 0.72681067],\n",
       "       [0.08599303, 0.76933484, 0.74122268, 0.08760346, 0.67711235,\n",
       "        0.26110729, 0.67193696, 0.94066299, 0.11744316, 0.24431537,\n",
       "        0.81967944, 0.16132033, 0.40695786, 0.89200667, 0.01031817,\n",
       "        0.62308981, 0.49050368, 0.54243031, 0.73309031, 0.23028324,\n",
       "        0.155757  , 0.04646391, 0.52570551, 0.73605285, 0.56072303,\n",
       "        0.49808642, 0.58976956, 0.25586893],\n",
       "       [0.97199582, 0.69954086, 0.87680437, 0.33093473, 0.23025254,\n",
       "        0.79998911, 0.2532678 , 0.14268149, 0.8903906 , 0.08833681,\n",
       "        0.63663366, 0.96945156, 0.90942476, 0.65532268, 0.57529939,\n",
       "        0.69761765, 0.41901098, 0.63782027, 0.27774169, 0.27641501,\n",
       "        0.29086253, 0.80583458, 0.53374199, 0.00582008, 0.00893892,\n",
       "        0.03615039, 0.06027032, 0.38370932],\n",
       "       [0.31315291, 0.70466438, 0.31096273, 0.73809576, 0.39442159,\n",
       "        0.05541588, 0.18643212, 0.2992912 , 0.34771627, 0.99998558,\n",
       "        0.05654153, 0.7886739 , 0.8591184 , 0.12417765, 0.94648555,\n",
       "        0.30460723, 0.51289195, 0.03971158, 0.77788883, 0.10177624,\n",
       "        0.45857964, 0.86052   , 0.83395324, 0.8826226 , 0.77173993,\n",
       "        0.15185935, 0.39402219, 0.10648219],\n",
       "       [0.9073084 , 0.19979275, 0.71020423, 0.54590015, 0.28685397,\n",
       "        0.05577292, 0.58487861, 0.93980704, 0.13539337, 0.12929874,\n",
       "        0.37560892, 0.15840945, 0.26213849, 0.50234767, 0.69044809,\n",
       "        0.72294795, 0.29549084, 0.12874514, 0.16360842, 0.49702997,\n",
       "        0.71650778, 0.54519022, 0.14619237, 0.1358508 , 0.32291694,\n",
       "        0.29091535, 0.62908325, 0.07538623],\n",
       "       [0.54638299, 0.94730771, 0.28945567, 0.87232668, 0.93000803,\n",
       "        0.01710431, 0.28441062, 0.15464767, 0.72584049, 0.16930609,\n",
       "        0.51947043, 0.48275088, 0.67708293, 0.80919288, 0.16481923,\n",
       "        0.88509269, 0.12527187, 0.317359  , 0.69249258, 0.59742396,\n",
       "        0.19808773, 0.97502659, 0.72096005, 0.97486756, 0.93627403,\n",
       "        0.82804806, 0.92852328, 0.83248696],\n",
       "       [0.65461858, 0.62686619, 0.4257747 , 0.26365522, 0.57373039,\n",
       "        0.23864849, 0.09789605, 0.87388513, 0.05508465, 0.86352111,\n",
       "        0.09760974, 0.21930604, 0.18168673, 0.2708762 , 0.6895321 ,\n",
       "        0.78804849, 0.98277728, 0.83270883, 0.08619362, 0.62158807,\n",
       "        0.47603799, 0.91932179, 0.03918997, 0.44748155, 0.22716156,\n",
       "        0.36577039, 0.88057595, 0.03067863],\n",
       "       [0.26950673, 0.21274447, 0.54081181, 0.25643522, 0.17140745,\n",
       "        0.94877237, 0.19588683, 0.81832728, 0.20963014, 0.42429405,\n",
       "        0.02403802, 0.56856382, 0.90783237, 0.43497136, 0.47279016,\n",
       "        0.47356716, 0.99393257, 0.46720323, 0.8058302 , 0.51658678,\n",
       "        0.91600988, 0.05209598, 0.96164841, 0.64417417, 0.56664624,\n",
       "        0.84884936, 0.91454119, 0.47619209],\n",
       "       [0.23222578, 0.11432877, 0.73709083, 0.46319   , 0.30219501,\n",
       "        0.74429765, 0.83282956, 0.63752615, 0.46357571, 0.91116019,\n",
       "        0.44710986, 0.41910224, 0.4444978 , 0.88487909, 0.9325028 ,\n",
       "        0.54141532, 0.4344702 , 0.26841666, 0.31425054, 0.36472594,\n",
       "        0.39801009, 0.45651124, 0.29241408, 0.85267299, 0.38770497,\n",
       "        0.99847537, 0.19292202, 0.20892958],\n",
       "       [0.68395697, 0.94252147, 0.71058341, 0.12569863, 0.57211839,\n",
       "        0.35299534, 0.57810768, 0.7793187 , 0.70167475, 0.99263314,\n",
       "        0.04487675, 0.32053668, 0.65471899, 0.029642  , 0.33316286,\n",
       "        0.06574352, 0.64738806, 0.41885744, 0.36747114, 0.24373172,\n",
       "        0.40230632, 0.00133509, 0.28408685, 0.86047275, 0.79019877,\n",
       "        0.16992417, 0.11580806, 0.67434336],\n",
       "       [0.6845982 , 0.49172013, 0.4644192 , 0.44663612, 0.47799617,\n",
       "        0.36932538, 0.57130803, 0.50605764, 0.92053164, 0.52931752,\n",
       "        0.97018394, 0.33299707, 0.94191002, 0.96490536, 0.13841105,\n",
       "        0.76665282, 0.79596155, 0.08057484, 0.41694911, 0.67448328,\n",
       "        0.19705491, 0.2588636 , 0.14304009, 0.05596623, 0.47565425,\n",
       "        0.91972018, 0.69301696, 0.26976361],\n",
       "       [0.46110783, 0.01991872, 0.35575971, 0.32907676, 0.99775112,\n",
       "        0.958885  , 0.18070811, 0.81306666, 0.47091169, 0.88187051,\n",
       "        0.0484001 , 0.34043077, 0.96339304, 0.99780973, 0.5286739 ,\n",
       "        0.05576165, 0.20499582, 0.76880207, 0.46807798, 0.49646908,\n",
       "        0.10529141, 0.7520009 , 0.00556591, 0.6441022 , 0.45878775,\n",
       "        0.06340404, 0.94495079, 0.5615581 ],\n",
       "       [0.21959965, 0.71701355, 0.08144237, 0.2796297 , 0.86571419,\n",
       "        0.2671954 , 0.73155552, 0.74206363, 0.51501123, 0.3595472 ,\n",
       "        0.33596027, 0.11793867, 0.71036099, 0.05019229, 0.26131015,\n",
       "        0.25900195, 0.00808046, 0.52864283, 0.53041317, 0.17925242,\n",
       "        0.49994715, 0.06621408, 0.888002  , 0.89050162, 0.53271186,\n",
       "        0.23026257, 0.10755037, 0.04387389],\n",
       "       [0.86685347, 0.32006526, 0.5484845 , 0.46668586, 0.27127738,\n",
       "        0.36389248, 0.61043769, 0.63868674, 0.16005901, 0.89742764,\n",
       "        0.93386537, 0.06305475, 0.08093713, 0.80629405, 0.64056387,\n",
       "        0.52718031, 0.076201  , 0.95870218, 0.57856492, 0.29525491,\n",
       "        0.7623384 , 0.4004371 , 0.34159767, 0.31264031, 0.2314743 ,\n",
       "        0.94360776, 0.31751689, 0.71657363],\n",
       "       [0.92192561, 0.79537479, 0.08180374, 0.95418737, 0.5486486 ,\n",
       "        0.96605623, 0.97497179, 0.16150066, 0.32832424, 0.32896216,\n",
       "        0.52948823, 0.35675434, 0.35665834, 0.36874147, 0.0806932 ,\n",
       "        0.17751677, 0.25892975, 0.16588304, 0.86648147, 0.33919945,\n",
       "        0.82609977, 0.70048897, 0.8749582 , 0.73615896, 0.87908996,\n",
       "        0.00239591, 0.92103533, 0.06185824],\n",
       "       [0.68598664, 0.6995173 , 0.88703447, 0.5313471 , 0.61885924,\n",
       "        0.32822662, 0.06398295, 0.56318852, 0.28975186, 0.83439963,\n",
       "        0.65774608, 0.86751147, 0.31108097, 0.16068281, 0.86898731,\n",
       "        0.8257053 , 0.35948121, 0.23729543, 0.18634034, 0.90511825,\n",
       "        0.16726659, 0.2729208 , 0.38148154, 0.07716568, 0.48538304,\n",
       "        0.08175346, 0.27281697, 0.11737815],\n",
       "       [0.43561581, 0.48162774, 0.05504194, 0.28709216, 0.84120615,\n",
       "        0.22462371, 0.60552574, 0.95508999, 0.15394237, 0.81226463,\n",
       "        0.55509396, 0.6800239 , 0.82320524, 0.12802694, 0.51831048,\n",
       "        0.94859608, 0.83561286, 0.5689616 , 0.10889883, 0.70810035,\n",
       "        0.63416851, 0.14484481, 0.27027587, 0.02899449, 0.63930507,\n",
       "        0.9525261 , 0.54666998, 0.66429643],\n",
       "       [0.16904575, 0.29457769, 0.17611554, 0.36347631, 0.69313719,\n",
       "        0.86753136, 0.48925197, 0.70793493, 0.26438104, 0.71547713,\n",
       "        0.46145199, 0.42048166, 0.56061474, 0.1489425 , 0.87408731,\n",
       "        0.99001226, 0.86168583, 0.53094917, 0.37351795, 0.55973567,\n",
       "        0.07714631, 0.41535423, 0.17544382, 0.3715864 , 0.84126957,\n",
       "        0.55005442, 0.23056546, 0.59516836],\n",
       "       [0.06658714, 0.72400996, 0.50322373, 0.5714464 , 0.58560887,\n",
       "        0.07815879, 0.91932518, 0.75500299, 0.47584195, 0.44758313,\n",
       "        0.35969097, 0.25961506, 0.72916788, 0.93041409, 0.34811982,\n",
       "        0.63138173, 0.82175798, 0.43269285, 0.32243565, 0.04133653,\n",
       "        0.45079305, 0.75348385, 0.33376573, 0.96334961, 0.47680544,\n",
       "        0.92169871, 0.78262512, 0.50185552],\n",
       "       [0.9666777 , 0.94349112, 0.47814596, 0.92811097, 0.73452603,\n",
       "        0.24819219, 0.30234311, 0.18133516, 0.68540962, 0.75424134,\n",
       "        0.0391594 , 0.46666799, 0.87772422, 0.24405562, 0.66762844,\n",
       "        0.40790306, 0.55225634, 0.48030268, 0.7328411 , 0.76819575,\n",
       "        0.97253077, 0.70311621, 0.26193917, 0.83601913, 0.90509818,\n",
       "        0.50935232, 0.60253401, 0.41680469]])"
      ]
     },
     "execution_count": 5,
     "metadata": {},
     "output_type": "execute_result"
    }
   ],
   "source": [
    "x[0,0]"
   ]
  },
  {
   "cell_type": "markdown",
   "id": "5e31c466",
   "metadata": {
    "slideshow": {
     "slide_type": "slide"
    }
   },
   "source": [
    "# im2colによる展開"
   ]
  },
  {
   "cell_type": "markdown",
   "id": "158f8e15",
   "metadata": {
    "slideshow": {
     "slide_type": "slide"
    }
   },
   "source": [
    "    \"\"\"\n",
    "    Parameters\n",
    "    ----------\n",
    "    input_data : (データ数, チャンネル, 高さ, 幅)の4次元配列からなる入力データ\n",
    "    filter_h : フィルターの高さ\n",
    "    filter_w : フィルターの幅\n",
    "    stride : ストライド\n",
    "    pad : パディング\n",
    "\n",
    "    Returns\n",
    "    -------\n",
    "    col : 2次元配列\n",
    "    \"\"\""
   ]
  },
  {
   "cell_type": "code",
   "execution_count": 6,
   "id": "2639ba78",
   "metadata": {
    "slideshow": {
     "slide_type": "slide"
    }
   },
   "outputs": [],
   "source": [
    "def im2col(input_data, filter_h, filter_w, stride=1, pad=0):\n",
    "    N, C, H, W = input_data.shape\n",
    "    out_h = (H + 2*pad - filter_h)//stride + 1\n",
    "    out_w = (W + 2*pad - filter_w)//stride + 1\n",
    "\n",
    "    img = np.pad(input_data, [(0,0), (0,0), (pad, pad), (pad, pad)], 'constant')\n",
    "    col = np.zeros((N, C, filter_h, filter_w, out_h, out_w))\n",
    "\n",
    "    for y in range(filter_h):\n",
    "        y_max = y + stride*out_h\n",
    "        for x in range(filter_w):\n",
    "            x_max = x + stride*out_w\n",
    "            col[:, :, y, x, :, :] = img[:, :, y:y_max:stride, x:x_max:stride]\n",
    "\n",
    "    col = col.transpose(0, 4, 5, 1, 2, 3).reshape(N*out_h*out_w, -1)\n",
    "    return col"
   ]
  },
  {
   "cell_type": "code",
   "execution_count": 7,
   "id": "d167c4b8",
   "metadata": {
    "slideshow": {
     "slide_type": "slide"
    }
   },
   "outputs": [
    {
     "data": {
      "text/plain": [
       "(9, 75)"
      ]
     },
     "execution_count": 7,
     "metadata": {},
     "output_type": "execute_result"
    }
   ],
   "source": [
    "x1 = np.random.rand(1, 3, 7, 7)\n",
    "col1= im2col(x1, 5, 5, stride=1, pad=0)\n",
    "col1.shape"
   ]
  },
  {
   "cell_type": "code",
   "execution_count": 8,
   "id": "8ceff8e5",
   "metadata": {},
   "outputs": [
    {
     "data": {
      "text/plain": [
       "(90, 75)"
      ]
     },
     "execution_count": 8,
     "metadata": {},
     "output_type": "execute_result"
    }
   ],
   "source": [
    "x2 = np.random.rand(10, 3, 7, 7)\n",
    "col2= im2col(x2, 5, 5, stride=1, pad=0)\n",
    "col2.shape"
   ]
  },
  {
   "cell_type": "markdown",
   "id": "d7dc17f3",
   "metadata": {},
   "source": [
    "# Convolutionレイヤの実装"
   ]
  },
  {
   "cell_type": "code",
   "execution_count": 9,
   "id": "d318c62f",
   "metadata": {},
   "outputs": [],
   "source": [
    "class Convolution:\n",
    "    def __init__(self, W, b, stride=1, pad=0):\n",
    "        self.W = W\n",
    "        self.b = b\n",
    "        self.stride =stride\n",
    "        self.pad = pad\n",
    "        \n",
    "    def forward(self, x):\n",
    "        FN, C, FH, FW = self.W.shape\n",
    "        N, C, H, W = x.shape\n",
    "        out_h = int(1 + (H + 2*self.pad - FH) / self.stride)\n",
    "        out_w = int(1 + (W + 2*self.pad - FW)/ self.stride)\n",
    "        \n",
    "        col = im2col(x, FH, FW, self.stride, self.pad)\n",
    "        col_W = self.W.reshape(FN, -1).T\n",
    "        out = np.dot(col, col_W) + self.b\n",
    "        \n",
    "        out = out.reshape(N, out_h, out_w, -1).transpose(0, 3, 1, 2)\n",
    "        \n",
    "        return out"
   ]
  },
  {
   "cell_type": "markdown",
   "id": "74d2c84f",
   "metadata": {},
   "source": [
    "# Poolingレイヤの実装"
   ]
  },
  {
   "cell_type": "code",
   "execution_count": 10,
   "id": "c9dbd37c",
   "metadata": {},
   "outputs": [],
   "source": [
    "class Pooling:\n",
    "    def __init__(self, pool_h, pool_w, stride=1, pad=0):\n",
    "        self.pool_h = pool_h\n",
    "        self.pool_w = pool_w\n",
    "        self.stride = stride\n",
    "        self.pad = pad\n",
    "    \n",
    "    def forward(self, x):\n",
    "        N, C, H, W = x.shape\n",
    "        out_h = int(1 + (H - self.pool_h) / self.stride)\n",
    "        out_w = int(1 + (W - self.pool_w) / self.stride)\n",
    "        \n",
    "        col = im2col(x, self.pool_h, self.pool_w, self.stride, self.pad)\n",
    "        col = col.reshape(-1, self.pool_h*self.pool_w)\n",
    "        \n",
    "        out = np.max(col, axis=1)\n",
    "        \n",
    "        out = out.reshape(N, out_h, out_w, C).transpose(0, 3, 1, 2)\n",
    "        \n",
    "        return out"
   ]
  },
  {
   "cell_type": "markdown",
   "id": "fa7d3c6a",
   "metadata": {},
   "source": [
    "参考ホームページ<br>\n",
    "https://www.anarchive-beta.com/entry/2020/08/26/180000"
   ]
  },
  {
   "cell_type": "code",
   "execution_count": 30,
   "id": "1120eb5f",
   "metadata": {},
   "outputs": [],
   "source": [
    "import sys, os\n",
    "sys.path.append(os.pardir)\n",
    "\n",
    "import matplotlib.pyplot as plt\n",
    "\n",
    "from collections import OrderedDict\n",
    "from common.layers import *\n",
    "from common.optimizer import *\n",
    "\n",
    "# MNISTデータセット読み込み関数\n",
    "from dataset.mnist import load_mnist"
   ]
  },
  {
   "cell_type": "code",
   "execution_count": 24,
   "id": "1b5ef636",
   "metadata": {},
   "outputs": [],
   "source": [
    "class SimpleConvNet:\n",
    "    \n",
    "    # インスタンス変数の定義\n",
    "    def __init__(self, input_dim=(1, 28, 28), \n",
    "                 conv_param={'filter_num':30, 'filter_size':5, 'pad':0, 'stride':1},\n",
    "                 hidden_size=100, output_size=10, weight_init_std=0.01):\n",
    "        filter_num = conv_param['filter_num'] # フィルター数\n",
    "        filter_size = conv_param['filter_size'] # フィルタの縦横\n",
    "        filter_pad = conv_param['pad'] # パディング\n",
    "        filter_stride = conv_param['stride'] # ストライド\n",
    "        input_size = input_dim[1] # 入力データの縦横\n",
    "        conv_output_size = (input_size - filter_size + 2 * filter_pad) / filter_stride + 1 # Convレイヤの出力の縦横 \n",
    "        pool_output_size = int(filter_num * (conv_output_size / 2) * (conv_output_size / 2)) # Poolレイヤの出力の縦横\n",
    "\n",
    "        # パラメータの初期値を設定\n",
    "        self.params = {} # 初期化\n",
    "        self.params['W1'] = weight_init_std * np.random.randn(filter_num, input_dim[0], filter_size, filter_size)\n",
    "        self.params['b1'] = np.zeros(filter_num)\n",
    "        self.params['W2'] = weight_init_std * np.random.randn(pool_output_size, hidden_size)\n",
    "        self.params['b2'] = np.zeros(hidden_size)\n",
    "        self.params['W3'] = weight_init_std * np.random.randn(hidden_size, output_size)\n",
    "        self.params['b3'] = np.zeros(output_size)\n",
    "\n",
    "        ## レイヤを格納したディクショナリ変数を作成\n",
    "        self.layers = OrderedDict() # 順番付きディクショナリ変数を初期化\n",
    "        \n",
    "        # 第1層\n",
    "        self.layers['Conv1'] = Convolution(self.params['W1'], self.params['b1'],\n",
    "                                           conv_param['stride'], conv_param['pad'])\n",
    "        self.layers['Relu1'] = Relu()\n",
    "        self.layers['Pool1'] = Pooling(pool_h=2, pool_w=2, stride=2)\n",
    "        \n",
    "        # 第2層\n",
    "        self.layers['Affine1'] = Affine(self.params['W2'], self.params['b2'])\n",
    "        self.layers['Relu2'] = Relu()\n",
    "        \n",
    "        # 第3層\n",
    "        self.layers['Affine2'] = Affine(self.params['W3'], self.params['b3'])\n",
    "        self.last_layer = SoftmaxWithLoss() # 最終層の活性化レイヤと損失関数レイヤは別のインスタンス変数とする\n",
    "    \n",
    "    # 推論メソッドの定義\n",
    "    def predict(self, x):\n",
    "        # レイヤごとに順伝播の処理:(未正規化)\n",
    "        for layer in self.layers.values():\n",
    "            x = layer.forward(x)\n",
    "\n",
    "        return x\n",
    "    \n",
    "    # 損失関数メソッドの定義\n",
    "    def loss(self, x, t):\n",
    "        # CNNの処理:(未正規化)\n",
    "        y = self.predict(x)\n",
    "        \n",
    "        # ソフトマックス関数による正規化と交差エントロピー誤差の計算\n",
    "        return self.last_layer.forward(y, t)\n",
    "    \n",
    "    # 認識精度測定メソッドの定義\n",
    "    def accuracy(self, x, t, batch_size=100):\n",
    "        # 正解データのインデックスを取得\n",
    "        if t.ndim != 1 : # one-hot表現のとき\n",
    "            t = np.argmax(t, axis=1)\n",
    "        \n",
    "        # 認識精度を初期化\n",
    "        acc = 0.0\n",
    "        \n",
    "        # バッチデータごとに測定\n",
    "        for i in range(int(x.shape[0] / batch_size)):\n",
    "            # バッチデータに切り分け\n",
    "            tx = x[i*batch_size:(i+1)*batch_size]\n",
    "            tt = t[i*batch_size:(i+1)*batch_size]\n",
    "            \n",
    "            # 推論処理:(未正規化)\n",
    "            y = self.predict(tx)\n",
    "            y = np.argmax(y, axis=1)\n",
    "            \n",
    "            # 認識精度を計算・記録\n",
    "            acc += np.sum(y == tt) \n",
    "        \n",
    "        return acc / x.shape[0]\n",
    "    \n",
    "    # 勾配計算メソッドの定義\n",
    "    def gradient(self, x, t):\n",
    "        # 交差エントロピー誤差を計算:順伝播\n",
    "        self.loss(x, t)\n",
    "\n",
    "        ## 各パラメータに関する勾配を計算:逆伝播\n",
    "        dout = 1 # 逆伝播の入力\n",
    "        dout = self.last_layer.backward(dout) # 最終層の出力\n",
    "        \n",
    "        # 各レイヤを逆順に処理\n",
    "        layers = list(self.layers.values())\n",
    "        layers.reverse()\n",
    "        for layer in layers:\n",
    "            dout = layer.backward(dout)\n",
    "\n",
    "        # 各パラメータに関する勾配を保存\n",
    "        grads = {} # 初期化\n",
    "        grads['W1'], grads['b1'] = self.layers['Conv1'].dW, self.layers['Conv1'].db\n",
    "        grads['W2'], grads['b2'] = self.layers['Affine1'].dW, self.layers['Affine1'].db\n",
    "        grads['W3'], grads['b3'] = self.layers['Affine2'].dW, self.layers['Affine2'].db\n",
    "\n",
    "        return grads\n",
    "    \n",
    "    # 学習後のパラメータを書き出し\n",
    "    def save_params(self, file_name=\"params.pkl\"):\n",
    "        # パラメータを格納\n",
    "        params = {}\n",
    "        for key, val in self.params.items():\n",
    "            params[key] = val\n",
    "        \n",
    "        # 書き出し\n",
    "        with open(file_name, 'wb') as f:\n",
    "            pickle.dump(params, f)\n",
    "    \n",
    "    # 学習済みパラメータを読み込み\n",
    "    def load_params(self, file_name=\"params.pkl\"):\n",
    "        # 読み込み\n",
    "        with open(file_name, 'rb') as f:\n",
    "            params = pickle.load(f)\n",
    "        \n",
    "        # インスタンス変数に格納\n",
    "        for key, val in params.items():\n",
    "            self.params[key] = val\n",
    "        \n",
    "        # 各レイヤのインスタンス変数に格納\n",
    "        for i, key in enumerate(['Conv1', 'Affine1', 'Affine2']):\n",
    "            self.layers[key].W = self.params['W' + str(i+1)]\n",
    "            self.layers[key].b = self.params['b' + str(i+1)]"
   ]
  },
  {
   "cell_type": "code",
   "execution_count": 25,
   "id": "623c59dd",
   "metadata": {},
   "outputs": [
    {
     "name": "stdout",
     "output_type": "stream",
     "text": [
      "(60000, 1, 28, 28)\n",
      "(60000, 10)\n",
      "(10000, 1, 28, 28)\n",
      "(10000, 10)\n"
     ]
    }
   ],
   "source": [
    "(x_train, t_train), (x_test, t_test) = load_mnist(normalize=True, flatten=False, one_hot_label=True)\n",
    "print(x_train.shape) # 訓練画像\n",
    "print(t_train.shape) # 訓練ラベル\n",
    "print(x_test.shape) # テスト画像\n",
    "print(t_test.shape) # テストラベル"
   ]
  },
  {
   "cell_type": "code",
   "execution_count": 26,
   "id": "e740b346",
   "metadata": {},
   "outputs": [
    {
     "name": "stdout",
     "output_type": "stream",
     "text": [
      "600.0\n",
      "6001\n"
     ]
    }
   ],
   "source": [
    "# 全データに対する試行回数を指定\n",
    "max_epochs = 10\n",
    "\n",
    "# ミニバッチサイズを指定\n",
    "batch_size = 100\n",
    "\n",
    "# 訓練データ数\n",
    "train_size = x_train.shape[0]\n",
    "\n",
    "# 全データに対するミニバッチデータの割合\n",
    "iter_per_epoch = max(train_size / batch_size, 1)\n",
    "print(iter_per_epoch)\n",
    "\n",
    "# ミニバッチデータに対する試行回数を計算\n",
    "max_iters = int(max_epochs * iter_per_epoch) + 1\n",
    "print(max_iters)"
   ]
  },
  {
   "cell_type": "code",
   "execution_count": 27,
   "id": "c9b47b48",
   "metadata": {},
   "outputs": [],
   "source": [
    "network = SimpleConvNet(\n",
    "    input_dim=(1, 28, 28), \n",
    "    conv_param={'filter_num':30, 'filter_size':5, 'pad':0, 'stride':1}, \n",
    "    hidden_size=100, \n",
    "    output_size=10, \n",
    "    weight_init_std=0.01\n",
    ")\n",
    "\n",
    "# 最適化手法のインスタンスを作成\n",
    "optimizer = Adam(lr=0.001)"
   ]
  },
  {
   "cell_type": "code",
   "execution_count": 28,
   "id": "2b8da9f0",
   "metadata": {},
   "outputs": [
    {
     "name": "stdout",
     "output_type": "stream",
     "text": [
      "iter:0, train loss:2.303\n",
      "===========epoch:0===========\n",
      "train acc:0.208\n",
      "test acc :0.208\n",
      "iter:100, train loss:0.397\n",
      "iter:200, train loss:0.239\n",
      "iter:300, train loss:0.234\n",
      "iter:400, train loss:0.279\n",
      "iter:500, train loss:0.103\n",
      "iter:600, train loss:0.083\n",
      "===========epoch:1===========\n",
      "train acc:0.961\n",
      "test acc :0.962\n",
      "iter:700, train loss:0.087\n",
      "iter:800, train loss:0.14\n",
      "iter:900, train loss:0.103\n",
      "iter:1000, train loss:0.093\n",
      "iter:1100, train loss:0.164\n",
      "iter:1200, train loss:0.043\n",
      "===========epoch:2===========\n",
      "train acc:0.977\n",
      "test acc :0.977\n",
      "iter:1300, train loss:0.069\n",
      "iter:1400, train loss:0.058\n",
      "iter:1500, train loss:0.05\n",
      "iter:1600, train loss:0.016\n",
      "iter:1700, train loss:0.019\n",
      "iter:1800, train loss:0.052\n",
      "===========epoch:3===========\n",
      "train acc:0.983\n",
      "test acc :0.98\n",
      "iter:1900, train loss:0.013\n",
      "iter:2000, train loss:0.02\n",
      "iter:2100, train loss:0.027\n",
      "iter:2200, train loss:0.059\n",
      "iter:2300, train loss:0.027\n",
      "iter:2400, train loss:0.016\n",
      "===========epoch:4===========\n",
      "train acc:0.987\n",
      "test acc :0.985\n",
      "iter:2500, train loss:0.057\n",
      "iter:2600, train loss:0.096\n",
      "iter:2700, train loss:0.026\n",
      "iter:2800, train loss:0.014\n",
      "iter:2900, train loss:0.017\n",
      "iter:3000, train loss:0.021\n",
      "===========epoch:5===========\n",
      "train acc:0.987\n",
      "test acc :0.98\n",
      "iter:3100, train loss:0.01\n",
      "iter:3200, train loss:0.023\n",
      "iter:3300, train loss:0.103\n",
      "iter:3400, train loss:0.018\n",
      "iter:3500, train loss:0.034\n",
      "iter:3600, train loss:0.036\n",
      "===========epoch:6===========\n",
      "train acc:0.992\n",
      "test acc :0.985\n",
      "iter:3700, train loss:0.01\n",
      "iter:3800, train loss:0.012\n",
      "iter:3900, train loss:0.002\n",
      "iter:4000, train loss:0.017\n",
      "iter:4100, train loss:0.009\n",
      "iter:4200, train loss:0.008\n",
      "===========epoch:7===========\n",
      "train acc:0.995\n",
      "test acc :0.987\n",
      "iter:4300, train loss:0.025\n",
      "iter:4400, train loss:0.015\n",
      "iter:4500, train loss:0.048\n",
      "iter:4600, train loss:0.023\n",
      "iter:4700, train loss:0.021\n",
      "iter:4800, train loss:0.006\n",
      "===========epoch:8===========\n",
      "train acc:0.995\n",
      "test acc :0.987\n",
      "iter:4900, train loss:0.006\n",
      "iter:5000, train loss:0.066\n",
      "iter:5100, train loss:0.016\n",
      "iter:5200, train loss:0.007\n",
      "iter:5300, train loss:0.011\n",
      "iter:5400, train loss:0.019\n",
      "===========epoch:9===========\n",
      "train acc:0.997\n",
      "test acc :0.989\n",
      "iter:5500, train loss:0.02\n",
      "iter:5600, train loss:0.001\n",
      "iter:5700, train loss:0.003\n",
      "iter:5800, train loss:0.015\n",
      "iter:5900, train loss:0.007\n",
      "iter:6000, train loss:0.005\n",
      "===========epoch:10===========\n",
      "train acc:0.997\n",
      "test acc :0.987\n"
     ]
    }
   ],
   "source": [
    "# エポックあたりの試行回数のカウントを初期化\n",
    "epoch_cnt = 0\n",
    "\n",
    "# 精度記録用リストを初期化\n",
    "train_acc_list = []\n",
    "test_acc_list = []\n",
    "train_loss_list = []\n",
    "\n",
    "# ミニバッチデータごとに学習\n",
    "for i in range(max_iters):\n",
    "    \n",
    "    # ランダムにバッチデータ抽出\n",
    "    batch_mask = np.random.choice(train_size, batch_size)\n",
    "    x_batch = x_train[batch_mask]\n",
    "    t_batch = t_train[batch_mask]\n",
    "    \n",
    "    # 勾配を計算\n",
    "    grads = network.gradient(x_batch, t_batch)\n",
    "    \n",
    "    # パラメータを更新\n",
    "    optimizer.update(network.params, grads)\n",
    "    \n",
    "    # 交差エントロピー誤差を記録\n",
    "    train_loss = network.last_layer.loss\n",
    "    train_loss_list.append(train_loss)\n",
    "    \n",
    "    # (動作確認も兼ねて)交差エントロピー誤差を表示\n",
    "    if i % 100 == 0:\n",
    "        print(\"iter:\" + str(i) + \", train loss:\" + str(np.round(train_loss, 3)))\n",
    "    \n",
    "    # 1エポックごとに認識精度を測定\n",
    "    if i % iter_per_epoch == 0:\n",
    "        # 精度を測定\n",
    "        train_acc = network.accuracy(x_train, t_train)\n",
    "        test_acc = network.accuracy(x_test, t_test)\n",
    "        \n",
    "        # 値を記録\n",
    "        train_acc_list.append(train_acc)\n",
    "        test_acc_list.append(test_acc)\n",
    "        \n",
    "        # (動作確認も兼ねて)認識精度を表示\n",
    "        print(\n",
    "            \"===========\" + \"epoch:\" + str(epoch_cnt) + \"===========\" + \n",
    "            \"\\ntrain acc:\" + str(np.round(train_acc, 3)) + \n",
    "            \"\\ntest acc :\" + str(np.round(test_acc, 3))\n",
    "        )\n",
    "        \n",
    "        # エポックあたりの試行回数をカウント\n",
    "        epoch_cnt += 1"
   ]
  },
  {
   "cell_type": "code",
   "execution_count": 31,
   "id": "798d0c54",
   "metadata": {},
   "outputs": [
    {
     "data": {
      "image/png": "[encoded data removed]",
      "text/plain": [
       "<Figure size 432x288 with 1 Axes>"
      ]
     },
     "metadata": {
      "needs_background": "light"
     },
     "output_type": "display_data"
    }
   ],
   "source": [
    "# x軸の値を生成\n",
    "epochs = np.arange(len(train_acc_list))\n",
    "\n",
    "# 作図\n",
    "plt.plot(epochs, train_acc_list, label='train') # 訓練データ\n",
    "plt.plot(epochs, test_acc_list, label='test') # テストデータ\n",
    "plt.xlabel(\"epochs\") # x軸ラベル\n",
    "plt.ylabel(\"accuracy\") # y軸ラベル\n",
    "plt.ylim(0, 1.1) # y軸の範囲\n",
    "plt.legend() # 凡例\n",
    "plt.title(\"Accuracy\", fontsize=20) # タイトル\n",
    "plt.show()"
   ]
  },
  {
   "cell_type": "code",
   "execution_count": 32,
   "id": "5ca41f08",
   "metadata": {},
   "outputs": [
    {
     "data": {
      "image/png": "[encoded data removed]",
      "text/plain": [
       "<Figure size 432x288 with 1 Axes>"
      ]
     },
     "metadata": {
      "needs_background": "light"
     },
     "output_type": "display_data"
    }
   ],
   "source": [
    "# x軸の値を生成\n",
    "iters = np.arange(len(train_loss_list))\n",
    "\n",
    "# 作図\n",
    "plt.plot(iters, train_loss_list, label='train') # 訓練データ\n",
    "plt.xlabel(\"iters\") # x軸ラベル\n",
    "plt.ylabel(\"loss\") # y軸ラベル\n",
    "plt.title(\"Cross Entropy Error\", fontsize=20) # タイトル\n",
    "plt.show()"
   ]
  }
 ],
 "metadata": {
  "celltoolbar": "Slideshow",
  "kernelspec": {
   "display_name": "Python 3",
   "language": "python",
   "name": "python3"
  },
  "language_info": {
   "codemirror_mode": {
    "name": "ipython",
    "version": 3
   },
   "file_extension": ".py",
   "mimetype": "text/x-python",
   "name": "python",
   "nbconvert_exporter": "python",
   "pygments_lexer": "ipython3",
   "version": "3.8.10"
  }
 },
 "nbformat": 4,
 "nbformat_minor": 5
}
