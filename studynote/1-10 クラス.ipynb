{
 "cells": [
  {
   "cell_type": "markdown",
   "id": "a38be147",
   "metadata": {},
   "source": [
    "# クラスを呼び出して、プログラムを書く。"
   ]
  },
  {
   "cell_type": "code",
   "execution_count": 1,
   "id": "5785d749",
   "metadata": {},
   "outputs": [],
   "source": [
    "import folder.helloclass "
   ]
  },
  {
   "cell_type": "code",
   "execution_count": 2,
   "id": "ce3134b7",
   "metadata": {},
   "outputs": [
    {
     "name": "stdout",
     "output_type": "stream",
     "text": [
      "Initialized!\n",
      "Hello Dabid!\n",
      "good-bye Dabid!\n"
     ]
    }
   ],
   "source": [
    "m =  folder.helloclass .Man(\"Dabid\")\n",
    "m.hello()\n",
    "m.goodby()"
   ]
  },
  {
   "cell_type": "code",
   "execution_count": 3,
   "id": "49335407",
   "metadata": {},
   "outputs": [],
   "source": [
    "import folder.helloclass as cl"
   ]
  },
  {
   "cell_type": "markdown",
   "id": "c47658eb",
   "metadata": {},
   "source": [
    "asで省略することもできる。\n"
   ]
  },
  {
   "cell_type": "code",
   "execution_count": 4,
   "id": "0cc0b517",
   "metadata": {},
   "outputs": [
    {
     "name": "stdout",
     "output_type": "stream",
     "text": [
      "Initialized!\n",
      "Hello Dabid!\n",
      "good-bye Dabid!\n"
     ]
    }
   ],
   "source": [
    "m =  cl .Man(\"Dabid\")\n",
    "m.hello()\n",
    "m.goodby()"
   ]
  },
  {
   "cell_type": "markdown",
   "id": "c23bdeb8",
   "metadata": {},
   "source": [
    "# クラスの中身を確認する"
   ]
  },
  {
   "cell_type": "code",
   "execution_count": 6,
   "id": "b6ee48ce",
   "metadata": {},
   "outputs": [
    {
     "data": {
      "text/plain": [
       "['__class__',\n",
       " '__delattr__',\n",
       " '__dict__',\n",
       " '__dir__',\n",
       " '__doc__',\n",
       " '__eq__',\n",
       " '__format__',\n",
       " '__ge__',\n",
       " '__getattribute__',\n",
       " '__gt__',\n",
       " '__hash__',\n",
       " '__init__',\n",
       " '__init_subclass__',\n",
       " '__le__',\n",
       " '__lt__',\n",
       " '__module__',\n",
       " '__ne__',\n",
       " '__new__',\n",
       " '__reduce__',\n",
       " '__reduce_ex__',\n",
       " '__repr__',\n",
       " '__setattr__',\n",
       " '__sizeof__',\n",
       " '__str__',\n",
       " '__subclasshook__',\n",
       " '__weakref__',\n",
       " 'goodby',\n",
       " 'hello',\n",
       " 'name']"
      ]
     },
     "execution_count": 6,
     "metadata": {},
     "output_type": "execute_result"
    }
   ],
   "source": [
    "#dir関数はリストを返す\n",
    "dir(m)"
   ]
  },
  {
   "cell_type": "code",
   "execution_count": 7,
   "id": "6d8cb765",
   "metadata": {},
   "outputs": [
    {
     "data": {
      "text/plain": [
       "{'name': 'Dabid'}"
      ]
     },
     "execution_count": 7,
     "metadata": {},
     "output_type": "execute_result"
    }
   ],
   "source": [
    "#var関数が戻り値として辞書を返す\n",
    "vars(m)"
   ]
  },
  {
   "cell_type": "markdown",
   "id": "c1395f2c",
   "metadata": {},
   "source": [
    "# さらに勉強したい人向け"
   ]
  },
  {
   "cell_type": "markdown",
   "id": "fb3e02e3",
   "metadata": {},
   "source": [
    "pythonで他の.pyプログラムを実行する\n",
    "https://qiita.com/ume1126/items/c1be49cc9ad5553ecc78\n",
    "\n",
    "pythonでの関数とクラスの呼び出し(関数の引数を関数にすることの有用性やクラスの継承など)\n",
    "https://qiita.com/masarin1126/items/1820d5bd02e70d499d4d\n",
    "\n",
    "クラスとインスタンスの情報を取得する\n",
    "http://ichitcltk.hustle.ne.jp/gudon2/index.php?pageType=file&id=python_class_inspect.md\n"
   ]
  },
  {
   "cell_type": "code",
   "execution_count": null,
   "id": "8c56f933",
   "metadata": {},
   "outputs": [],
   "source": []
  }
 ],
 "metadata": {
  "kernelspec": {
   "display_name": "Python 3",
   "language": "python",
   "name": "python3"
  },
  "language_info": {
   "codemirror_mode": {
    "name": "ipython",
    "version": 3
   },
   "file_extension": ".py",
   "mimetype": "text/x-python",
   "name": "python",
   "nbconvert_exporter": "python",
   "pygments_lexer": "ipython3",
   "version": "3.8.10"
  }
 },
 "nbformat": 4,
 "nbformat_minor": 5
}
