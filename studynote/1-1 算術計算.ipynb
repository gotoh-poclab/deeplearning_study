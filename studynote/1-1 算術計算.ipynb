{
 "cells": [
  {
   "cell_type": "markdown",
   "id": "2e440311",
   "metadata": {},
   "source": [
    "# 以下jupyterのテスト"
   ]
  },
  {
   "cell_type": "markdown",
   "id": "4f6bdea5",
   "metadata": {},
   "source": [
    "# 足し算"
   ]
  },
  {
   "cell_type": "code",
   "execution_count": null,
   "id": "d5def8ee",
   "metadata": {},
   "outputs": [],
   "source": [
    "1+1"
   ]
  },
  {
   "cell_type": "markdown",
   "id": "6b28dfd9",
   "metadata": {},
   "source": [
    "# 引き算"
   ]
  },
  {
   "cell_type": "code",
   "execution_count": null,
   "id": "2d79bf64",
   "metadata": {},
   "outputs": [],
   "source": [
    "2-1"
   ]
  }
 ],
 "metadata": {
  "kernelspec": {
   "display_name": "Python 3",
   "language": "python",
   "name": "python3"
  },
  "language_info": {
   "codemirror_mode": {
    "name": "ipython",
    "version": 3
   },
   "file_extension": ".py",
   "mimetype": "text/x-python",
   "name": "python",
   "nbconvert_exporter": "python",
   "pygments_lexer": "ipython3",
   "version": "3.8.10"
  }
 },
 "nbformat": 4,
 "nbformat_minor": 5
}
