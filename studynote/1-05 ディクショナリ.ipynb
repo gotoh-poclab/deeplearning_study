{
 "cells": [
  {
   "cell_type": "code",
   "execution_count": 8,
   "id": "f62da9fc",
   "metadata": {},
   "outputs": [],
   "source": [
    "# 辞書型は、{}で囲む\n",
    "fruits = {\"apple\":1, \"orange\":2, \"banana\":3}"
   ]
  },
  {
   "cell_type": "code",
   "execution_count": 2,
   "id": "fd16969c",
   "metadata": {},
   "outputs": [
    {
     "data": {
      "text/plain": [
       "{'apple': 1, 'orange': 2, 'banana': 3}"
      ]
     },
     "execution_count": 2,
     "metadata": {},
     "output_type": "execute_result"
    }
   ],
   "source": [
    "fruits"
   ]
  },
  {
   "cell_type": "code",
   "execution_count": 3,
   "id": "485c3a0c",
   "metadata": {},
   "outputs": [],
   "source": [
    "# 辞書型は、{}で囲む\n",
    "fruits[\"peach\"] = 4"
   ]
  },
  {
   "cell_type": "code",
   "execution_count": 4,
   "id": "4997f042",
   "metadata": {},
   "outputs": [
    {
     "data": {
      "text/plain": [
       "{'apple': 1, 'orange': 2, 'banana': 3, 'peach': 4}"
      ]
     },
     "execution_count": 4,
     "metadata": {},
     "output_type": "execute_result"
    }
   ],
   "source": [
    "fruits"
   ]
  },
  {
   "cell_type": "code",
   "execution_count": 5,
   "id": "679532fe",
   "metadata": {},
   "outputs": [
    {
     "data": {
      "text/plain": [
       "{'orange': 2, 'banana': 3, 'peach': 4}"
      ]
     },
     "execution_count": 5,
     "metadata": {},
     "output_type": "execute_result"
    }
   ],
   "source": [
    "# 辞書の個別情報の削除\n",
    "fruits.pop('apple')\n",
    "fruits"
   ]
  },
  {
   "cell_type": "code",
   "execution_count": 7,
   "id": "7f19685e",
   "metadata": {},
   "outputs": [
    {
     "data": {
      "text/plain": [
       "{}"
      ]
     },
     "execution_count": 7,
     "metadata": {},
     "output_type": "execute_result"
    }
   ],
   "source": [
    "# 辞書の全ての要素を削除\n",
    "fruits.clear()\n",
    "fruits"
   ]
  },
  {
   "cell_type": "markdown",
   "id": "24e68623",
   "metadata": {},
   "source": [
    "# json形式を辞書型に変換する。"
   ]
  },
  {
   "cell_type": "code",
   "execution_count": 3,
   "id": "d32ece6d",
   "metadata": {},
   "outputs": [
    {
     "name": "stdout",
     "output_type": "stream",
     "text": [
      "<class 'dict'>\n",
      "name:nancy, type:<class 'str'>\n",
      "age:99, type:<class 'int'>\n"
     ]
    }
   ],
   "source": [
    "import json\n",
    "\n",
    "json_string = '''\n",
    "{\n",
    "  \"name\": \"nancy\",\n",
    "  \"gender\": \"male\",\n",
    "  \"age\": 99\n",
    "}\n",
    "'''\n",
    "\n",
    "json_dict = json.loads(json_string)\n",
    "\n",
    "print(type(json_dict))\n",
    "print(f\"name:{json_dict['name']}, type:{type(json_dict['name'])}\")\n",
    "print(f\"age:{json_dict['age']}, type:{type(json_dict['age'])}\")"
   ]
  },
  {
   "cell_type": "code",
   "execution_count": null,
   "id": "5727e63b",
   "metadata": {},
   "outputs": [],
   "source": []
  }
 ],
 "metadata": {
  "kernelspec": {
   "display_name": "Python 3",
   "language": "python",
   "name": "python3"
  },
  "language_info": {
   "codemirror_mode": {
    "name": "ipython",
    "version": 3
   },
   "file_extension": ".py",
   "mimetype": "text/x-python",
   "name": "python",
   "nbconvert_exporter": "python",
   "pygments_lexer": "ipython3",
   "version": "3.8.10"
  }
 },
 "nbformat": 4,
 "nbformat_minor": 5
}
