{
 "cells": [
  {
   "cell_type": "markdown",
   "id": "8d863fd7",
   "metadata": {},
   "source": [
    "pythonの型の種類\n",
    "\n",
    "- 整数型\n",
    "int\n",
    "- 浮動小数点型\n",
    "float\n",
    "- 文字列型\n",
    "str"
   ]
  },
  {
   "cell_type": "markdown",
   "id": "055e019e",
   "metadata": {},
   "source": [
    "type()とすることで、どんな型かを判定できる。"
   ]
  },
  {
   "cell_type": "code",
   "execution_count": 1,
   "id": "fe73a703",
   "metadata": {},
   "outputs": [
    {
     "data": {
      "text/plain": [
       "int"
      ]
     },
     "execution_count": 1,
     "metadata": {},
     "output_type": "execute_result"
    }
   ],
   "source": [
    "type(10)"
   ]
  },
  {
   "cell_type": "code",
   "execution_count": 2,
   "id": "1852b7e9",
   "metadata": {},
   "outputs": [
    {
     "data": {
      "text/plain": [
       "float"
      ]
     },
     "execution_count": 2,
     "metadata": {},
     "output_type": "execute_result"
    }
   ],
   "source": [
    "type(3.51)"
   ]
  },
  {
   "cell_type": "code",
   "execution_count": 4,
   "id": "3547b841",
   "metadata": {},
   "outputs": [
    {
     "data": {
      "text/plain": [
       "str"
      ]
     },
     "execution_count": 4,
     "metadata": {},
     "output_type": "execute_result"
    }
   ],
   "source": [
    "type(\"hello\")"
   ]
  },
  {
   "cell_type": "markdown",
   "id": "b80cee7e",
   "metadata": {},
   "source": [
    "変数も判定可能なので、どんな型の入っている時に使用する場合が多い。"
   ]
  },
  {
   "cell_type": "code",
   "execution_count": 5,
   "id": "a798f609",
   "metadata": {},
   "outputs": [],
   "source": [
    "a = 10\n",
    "b = 4.55\n",
    "c = \"python\""
   ]
  },
  {
   "cell_type": "code",
   "execution_count": 6,
   "id": "025d377c",
   "metadata": {},
   "outputs": [
    {
     "data": {
      "text/plain": [
       "int"
      ]
     },
     "execution_count": 6,
     "metadata": {},
     "output_type": "execute_result"
    }
   ],
   "source": [
    "type(a)"
   ]
  },
  {
   "cell_type": "code",
   "execution_count": 7,
   "id": "dac7ac6c",
   "metadata": {},
   "outputs": [
    {
     "data": {
      "text/plain": [
       "float"
      ]
     },
     "execution_count": 7,
     "metadata": {},
     "output_type": "execute_result"
    }
   ],
   "source": [
    "type(b)"
   ]
  },
  {
   "cell_type": "code",
   "execution_count": 8,
   "id": "25bf64cc",
   "metadata": {},
   "outputs": [
    {
     "data": {
      "text/plain": [
       "str"
      ]
     },
     "execution_count": 8,
     "metadata": {},
     "output_type": "execute_result"
    }
   ],
   "source": [
    "type(c)"
   ]
  },
  {
   "cell_type": "markdown",
   "id": "e697293f",
   "metadata": {},
   "source": [
    "リストとか変数とかの判定も可能"
   ]
  },
  {
   "cell_type": "code",
   "execution_count": 10,
   "id": "c0455ee3",
   "metadata": {},
   "outputs": [],
   "source": [
    "abc_list = [a, b, c]\n",
    "ab_dictionary = {'a': 100, 'b':200}"
   ]
  },
  {
   "cell_type": "code",
   "execution_count": 11,
   "id": "a69aae4d",
   "metadata": {},
   "outputs": [
    {
     "data": {
      "text/plain": [
       "list"
      ]
     },
     "execution_count": 11,
     "metadata": {},
     "output_type": "execute_result"
    }
   ],
   "source": [
    "type(abc_list)"
   ]
  },
  {
   "cell_type": "code",
   "execution_count": 12,
   "id": "a11784c1",
   "metadata": {},
   "outputs": [
    {
     "data": {
      "text/plain": [
       "dict"
      ]
     },
     "execution_count": 12,
     "metadata": {},
     "output_type": "execute_result"
    }
   ],
   "source": [
    "type(ab_dictionary)"
   ]
  }
 ],
 "metadata": {
  "kernelspec": {
   "display_name": "Python 3",
   "language": "python",
   "name": "python3"
  },
  "language_info": {
   "codemirror_mode": {
    "name": "ipython",
    "version": 3
   },
   "file_extension": ".py",
   "mimetype": "text/x-python",
   "name": "python",
   "nbconvert_exporter": "python",
   "pygments_lexer": "ipython3",
   "version": "3.8.10"
  }
 },
 "nbformat": 4,
 "nbformat_minor": 5
}
