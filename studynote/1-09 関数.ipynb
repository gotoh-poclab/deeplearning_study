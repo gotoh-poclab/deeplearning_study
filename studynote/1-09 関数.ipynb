{
 "cells": [
  {
   "cell_type": "markdown",
   "id": "50868f3c",
   "metadata": {},
   "source": [
    "まとまりのある処理を関数として定義することができる。"
   ]
  },
  {
   "cell_type": "code",
   "execution_count": 1,
   "id": "1ef82a4c",
   "metadata": {},
   "outputs": [],
   "source": [
    "def hello():\n",
    "    print(\"Hello World!\")"
   ]
  },
  {
   "cell_type": "code",
   "execution_count": 2,
   "id": "d0bfbc5d",
   "metadata": {},
   "outputs": [
    {
     "name": "stdout",
     "output_type": "stream",
     "text": [
      "Hello World!\n"
     ]
    }
   ],
   "source": [
    "hello()"
   ]
  },
  {
   "cell_type": "code",
   "execution_count": 3,
   "id": "e8e89bb9",
   "metadata": {},
   "outputs": [],
   "source": [
    "#関数は、引数を指定することができる。\n",
    "def hello(object):\n",
    "    print(\"Hello \" + object + \"!\")"
   ]
  },
  {
   "cell_type": "markdown",
   "id": "dc9e3d4d",
   "metadata": {},
   "source": [
    "文字列の連結は上記のように、+ を用いて行う。"
   ]
  },
  {
   "cell_type": "code",
   "execution_count": 4,
   "id": "30259e3d",
   "metadata": {},
   "outputs": [
    {
     "name": "stdout",
     "output_type": "stream",
     "text": [
      "Hello cat!\n"
     ]
    }
   ],
   "source": [
    "# カッコに入れるものを変えることで処理が変わる。\n",
    "hello(\"cat\")"
   ]
  },
  {
   "cell_type": "code",
   "execution_count": 5,
   "id": "bc4fe5e9",
   "metadata": {},
   "outputs": [
    {
     "name": "stdout",
     "output_type": "stream",
     "text": [
      "Hello dog!\n"
     ]
    }
   ],
   "source": [
    "hello(\"dog\")"
   ]
  },
  {
   "cell_type": "code",
   "execution_count": 6,
   "id": "b9b9814e",
   "metadata": {},
   "outputs": [
    {
     "name": "stdout",
     "output_type": "stream",
     "text": [
      "Hello rabbit!\n"
     ]
    }
   ],
   "source": [
    "# 変数を入れたものを処理\n",
    "i = \"rabbit\"\n",
    "hello(i)"
   ]
  },
  {
   "cell_type": "markdown",
   "id": "fc30b72d",
   "metadata": {},
   "source": [
    "# 別のファイルで作ったdefの呼び出し方"
   ]
  },
  {
   "cell_type": "code",
   "execution_count": 7,
   "id": "47c5e673",
   "metadata": {},
   "outputs": [],
   "source": [
    "#同じ階層にあるhello.pyのhellodefを呼び出す。\n",
    "from hello import hellodef"
   ]
  },
  {
   "cell_type": "code",
   "execution_count": 8,
   "id": "4bf225a1",
   "metadata": {},
   "outputs": [
    {
     "name": "stdout",
     "output_type": "stream",
     "text": [
      "Hello def\n"
     ]
    }
   ],
   "source": [
    "hellodef()"
   ]
  },
  {
   "cell_type": "code",
   "execution_count": 9,
   "id": "de30b4f8",
   "metadata": {},
   "outputs": [],
   "source": [
    "#folderというフォルダーの中のhellofolder.pyのhellofolderを呼び出す\n",
    "from folder.hellofolder import hellofolder"
   ]
  },
  {
   "cell_type": "code",
   "execution_count": 10,
   "id": "850117f8",
   "metadata": {},
   "outputs": [
    {
     "name": "stdout",
     "output_type": "stream",
     "text": [
      "Hello folder\n"
     ]
    }
   ],
   "source": [
    "hellofolder()"
   ]
  },
  {
   "cell_type": "markdown",
   "id": "a30441de",
   "metadata": {},
   "source": [
    "pythonは、上の階層には行けない。\n",
    "同じフォルダーか、同じフォルダーの中にあるフォルダーまで指定できる。"
   ]
  },
  {
   "cell_type": "code",
   "execution_count": null,
   "id": "179fcc3b",
   "metadata": {},
   "outputs": [],
   "source": []
  }
 ],
 "metadata": {
  "kernelspec": {
   "display_name": "Python 3",
   "language": "python",
   "name": "python3"
  },
  "language_info": {
   "codemirror_mode": {
    "name": "ipython",
    "version": 3
   },
   "file_extension": ".py",
   "mimetype": "text/x-python",
   "name": "python",
   "nbconvert_exporter": "python",
   "pygments_lexer": "ipython3",
   "version": "3.8.10"
  }
 },
 "nbformat": 4,
 "nbformat_minor": 5
}
