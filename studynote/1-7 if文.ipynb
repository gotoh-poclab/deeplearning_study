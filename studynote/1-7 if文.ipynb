{
 "cells": [
  {
   "cell_type": "markdown",
   "id": "56d9ddf4",
   "metadata": {},
   "source": [
    "条件に応じて、処理を分岐するにはif/elif/elseを用いる。"
   ]
  },
  {
   "cell_type": "code",
   "execution_count": 1,
   "id": "38a42918",
   "metadata": {},
   "outputs": [
    {
     "name": "stdout",
     "output_type": "stream",
     "text": [
      "I'm hungry\n"
     ]
    }
   ],
   "source": [
    "hungry = True\n",
    "if hungry:\n",
    "    print(\"I'm hungry\")"
   ]
  },
  {
   "cell_type": "code",
   "execution_count": 2,
   "id": "7f66182a",
   "metadata": {},
   "outputs": [
    {
     "name": "stdout",
     "output_type": "stream",
     "text": [
      "I'm not hungry\n"
     ]
    }
   ],
   "source": [
    "hungry = False\n",
    "if hungry:\n",
    "    print(\"I'm hungry\")\n",
    "else:\n",
    "     print(\"I'm not hungry\")"
   ]
  },
  {
   "cell_type": "markdown",
   "id": "79dd71ac",
   "metadata": {},
   "source": [
    "また、プログラムを実行するときはインデントが重要になります。\n",
    "以下、インデントを入れなかった時には、\n",
    "IndentationErrorになる。"
   ]
  },
  {
   "cell_type": "code",
   "execution_count": 3,
   "id": "9589e3ed",
   "metadata": {
    "scrolled": true
   },
   "outputs": [
    {
     "ename": "IndentationError",
     "evalue": "expected an indented block (<ipython-input-3-b6b7f4b2c228>, line 3)",
     "output_type": "error",
     "traceback": [
      "\u001b[0;36m  File \u001b[0;32m\"<ipython-input-3-b6b7f4b2c228>\"\u001b[0;36m, line \u001b[0;32m3\u001b[0m\n\u001b[0;31m    print(\"I'm hungry\")\u001b[0m\n\u001b[0m    ^\u001b[0m\n\u001b[0;31mIndentationError\u001b[0m\u001b[0;31m:\u001b[0m expected an indented block\n"
     ]
    }
   ],
   "source": [
    "hungry = True\n",
    "if hungry:\n",
    "print(\"I'm hungry\")"
   ]
  },
  {
   "cell_type": "code",
   "execution_count": null,
   "id": "f673b5e5",
   "metadata": {},
   "outputs": [],
   "source": []
  }
 ],
 "metadata": {
  "kernelspec": {
   "display_name": "Python 3",
   "language": "python",
   "name": "python3"
  },
  "language_info": {
   "codemirror_mode": {
    "name": "ipython",
    "version": 3
   },
   "file_extension": ".py",
   "mimetype": "text/x-python",
   "name": "python",
   "nbconvert_exporter": "python",
   "pygments_lexer": "ipython3",
   "version": "3.8.10"
  }
 },
 "nbformat": 4,
 "nbformat_minor": 5
}
