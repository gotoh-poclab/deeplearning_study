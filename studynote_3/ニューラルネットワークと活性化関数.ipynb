{
 "cells": [
  {
   "cell_type": "markdown",
   "id": "60ead790",
   "metadata": {},
   "source": [
    "# ニューラルネットワークの例"
   ]
  },
  {
   "cell_type": "code",
   "execution_count": 1,
   "id": "987d717e",
   "metadata": {},
   "outputs": [
    {
     "data": {
      "image/png": "[encoded data removed]",
      "text/plain": [
       "<IPython.core.display.Image object>"
      ]
     },
     "execution_count": 1,
     "metadata": {},
     "output_type": "execute_result"
    }
   ],
   "source": [
    "# 画像の表示は、下記のサイトを参考にした。\n",
    "#https://own-search-and-study.xyz/2017/05/16/python%E3%81%A7graphviz%E3%82%92%E4%BD%BF%E3%81%A3%E3%81%A6%E3%83%8B%E3%83%A5%E3%83%BC%E3%83%A9%E3%83%AB%E3%83%8D%E3%83%83%E3%83%88%E3%83%AF%E3%83%BC%E3%82%AF%E3%82%92%E6%8F%8F%E7%94%BB/\n",
    "\n",
    "from neural import neuralViz\n",
    "from IPython.display import Image\n",
    "\n",
    "neuralViz([2, 3, 2])\n",
    "Image(\"default.png\")"
   ]
  },
  {
   "cell_type": "markdown",
   "id": "22cb06c5",
   "metadata": {},
   "source": [
    "# パーセプトロンの復習"
   ]
  },
  {
   "cell_type": "markdown",
   "id": "a86612c5",
   "metadata": {},
   "source": [
    "$$\n",
    "    y =\n",
    "        \\begin{cases}\n",
    "            0      (b + w1x1 + w2x2　<=  0) \\\\\n",
    "             1     (b + w1x1 + w2x2  　>  0) \\\\\n",
    "        \\end{cases}\n",
    "$$"
   ]
  },
  {
   "cell_type": "markdown",
   "id": "7c39ae5e",
   "metadata": {},
   "source": [
    "- x1とx2の2つの入力信号を受け取り、yを出力する\n",
    "- w1やw2は各信号の「重み」を表すパラメータ\n",
    "- bは、バイアスと呼ばれるパラメータ"
   ]
  },
  {
   "cell_type": "markdown",
   "id": "c7012185",
   "metadata": {},
   "source": [
    "## 式を書き換える"
   ]
  },
  {
   "cell_type": "markdown",
   "id": "07ff9594",
   "metadata": {},
   "source": [
    "$$\n",
    "    y =　　h(b + w1x1 + w2 x2)\n",
    "$$"
   ]
  },
  {
   "cell_type": "markdown",
   "id": "9c7854f8",
   "metadata": {},
   "source": [
    "$$   \n",
    "    y(x) = \n",
    "        \\begin{cases}\n",
    "             0  (x　<=  0) \\\\\n",
    "             1  (x  　>  0) \\\\\n",
    "        \\end{cases}\n",
    "$$"
   ]
  },
  {
   "cell_type": "markdown",
   "id": "dbb7c331",
   "metadata": {},
   "source": [
    "- 入力信号の総和がh(x)という関数によって変換され、その変換された値が出力yになる"
   ]
  },
  {
   "cell_type": "markdown",
   "id": "9748fa69",
   "metadata": {},
   "source": [
    "## 活性化関数の登場"
   ]
  },
  {
   "cell_type": "code",
   "execution_count": 2,
   "id": "dd920f2c",
   "metadata": {},
   "outputs": [
    {
     "data": {
      "image/png": "[encoded data removed]",
      "text/plain": [
       "<IPython.core.display.Image object>"
      ]
     },
     "execution_count": 2,
     "metadata": {},
     "output_type": "execute_result"
    }
   ],
   "source": [
    "neuralViz([3, 1, 3], fileName = \"activate.png\")\n",
    "Image(\"activate.png\")"
   ]
  },
  {
   "cell_type": "markdown",
   "id": "87fdf782",
   "metadata": {},
   "source": [
    "$$   \n",
    "   a = b + w1x1 + w2x2   \\\\\n",
    "   y = h(a)\n",
    "$$"
   ]
  },
  {
   "cell_type": "markdown",
   "id": "4aa164cc",
   "metadata": {},
   "source": [
    "これまでのものは、閾値を境にして出力が変わる関数でそれは「ステップ関数」や「階段関数」と呼ばれます。"
   ]
  },
  {
   "cell_type": "markdown",
   "id": "56e800b0",
   "metadata": {},
   "source": [
    "そのため、「パーセプトロンでは、活性化関数にステップ関数を利用している」ということができる。"
   ]
  },
  {
   "cell_type": "markdown",
   "id": "3148d825",
   "metadata": {},
   "source": [
    "以降、他の活性化関数についても見ていく。"
   ]
  },
  {
   "cell_type": "markdown",
   "id": "d8e1bc39",
   "metadata": {},
   "source": [
    "# シグモイド関数"
   ]
  },
  {
   "cell_type": "markdown",
   "id": "19bc4f39",
   "metadata": {},
   "source": [
    "$$   \n",
    "    h(x) = \\frac{1}{1+exp(-x)}\n",
    "$$"
   ]
  },
  {
   "cell_type": "markdown",
   "id": "ddabd718",
   "metadata": {},
   "source": [
    "# ステップ関数の実装"
   ]
  },
  {
   "cell_type": "code",
   "execution_count": 3,
   "id": "b0b009d7",
   "metadata": {},
   "outputs": [],
   "source": [
    "def step_function(x):\n",
    "    if x > 0:\n",
    "        return 1\n",
    "    else:\n",
    "        return 0"
   ]
  },
  {
   "cell_type": "markdown",
   "id": "ffa9e45b",
   "metadata": {},
   "source": [
    "これだと、xは実数しか入力することができないので、Numpyの配列が引数になるように修正する。"
   ]
  },
  {
   "cell_type": "code",
   "execution_count": 4,
   "id": "4f60e592",
   "metadata": {},
   "outputs": [],
   "source": [
    "def step_function(x):\n",
    "    y = x > 0\n",
    "    return y.astype(np.int)"
   ]
  },
  {
   "cell_type": "code",
   "execution_count": 5,
   "id": "ee298af5",
   "metadata": {},
   "outputs": [
    {
     "data": {
      "text/plain": [
       "array([-1.,  1.,  2.])"
      ]
     },
     "execution_count": 5,
     "metadata": {},
     "output_type": "execute_result"
    }
   ],
   "source": [
    "import numpy as np\n",
    "x = np.array([-1.0, 1.0, 2.0])\n",
    "x"
   ]
  },
  {
   "cell_type": "code",
   "execution_count": 6,
   "id": "b6d8fc17",
   "metadata": {},
   "outputs": [],
   "source": [
    "y = x > 0"
   ]
  },
  {
   "cell_type": "code",
   "execution_count": 7,
   "id": "254c7df2",
   "metadata": {},
   "outputs": [
    {
     "data": {
      "text/plain": [
       "array([False,  True,  True])"
      ]
     },
     "execution_count": 7,
     "metadata": {},
     "output_type": "execute_result"
    }
   ],
   "source": [
    "y"
   ]
  },
  {
   "cell_type": "code",
   "execution_count": 8,
   "id": "03ffbec5",
   "metadata": {},
   "outputs": [
    {
     "data": {
      "text/plain": [
       "numpy.ndarray"
      ]
     },
     "execution_count": 8,
     "metadata": {},
     "output_type": "execute_result"
    }
   ],
   "source": [
    "type(y)"
   ]
  },
  {
   "cell_type": "markdown",
   "id": "10dd3b6f",
   "metadata": {},
   "source": [
    "# ステップ関数のグラフ"
   ]
  },
  {
   "cell_type": "code",
   "execution_count": 9,
   "id": "bfc17765",
   "metadata": {},
   "outputs": [
    {
     "data": {
      "image/png": "[encoded data removed]",
      "text/plain": [
       "<Figure size 432x288 with 1 Axes>"
      ]
     },
     "metadata": {
      "needs_background": "light"
     },
     "output_type": "display_data"
    }
   ],
   "source": [
    "import numpy as np\n",
    "import matplotlib.pylab as plt\n",
    "\n",
    "def step_function(x):\n",
    "    return np.array(x > 0, dtype=np.int64)\n",
    "# 本では、np.intと書いてあるがエラーになるのでnp.int64に変更。\n",
    "\n",
    "x = np.arange(-5.0, 5.0, 0.1)\n",
    "y = step_function(x)\n",
    "plt.plot(x, y)\n",
    "plt.ylim(-0.1, 1.1)\n",
    "plt.show()"
   ]
  },
  {
   "cell_type": "markdown",
   "id": "668c1e4e",
   "metadata": {},
   "source": [
    "# シグモイド関数の実装"
   ]
  },
  {
   "cell_type": "code",
   "execution_count": 10,
   "id": "a9c4754a",
   "metadata": {},
   "outputs": [],
   "source": [
    "def sigmoid(x):\n",
    "    return 1/ (1 + np.exp(-x))"
   ]
  },
  {
   "cell_type": "code",
   "execution_count": 11,
   "id": "fa4f2c3f",
   "metadata": {},
   "outputs": [
    {
     "data": {
      "text/plain": [
       "array([0.26894142, 0.73105858, 0.88079708])"
      ]
     },
     "execution_count": 11,
     "metadata": {},
     "output_type": "execute_result"
    }
   ],
   "source": [
    "x = np.array([-1.0, 1.0, 2.0])\n",
    "sigmoid(x)"
   ]
  },
  {
   "cell_type": "code",
   "execution_count": 12,
   "id": "df99e02f",
   "metadata": {},
   "outputs": [
    {
     "data": {
      "text/plain": [
       "array([2., 3., 4.])"
      ]
     },
     "execution_count": 12,
     "metadata": {},
     "output_type": "execute_result"
    }
   ],
   "source": [
    "# もう一つ具体例\n",
    "t = np.array([1.0, 2.0, 3.0])\n",
    "1.0 + t"
   ]
  },
  {
   "cell_type": "code",
   "execution_count": 13,
   "id": "f2a1b7b9",
   "metadata": {},
   "outputs": [
    {
     "data": {
      "text/plain": [
       "array([1.        , 0.5       , 0.33333333])"
      ]
     },
     "execution_count": 13,
     "metadata": {},
     "output_type": "execute_result"
    }
   ],
   "source": [
    "1.0 / t"
   ]
  },
  {
   "cell_type": "code",
   "execution_count": 14,
   "id": "686dd70c",
   "metadata": {},
   "outputs": [
    {
     "data": {
      "image/png": "[encoded data removed]",
      "text/plain": [
       "<Figure size 432x288 with 1 Axes>"
      ]
     },
     "metadata": {
      "needs_background": "light"
     },
     "output_type": "display_data"
    }
   ],
   "source": [
    "#sigmoid関数のグラフ\n",
    "x = np.arange(-5.0, 5.0, 0.1)\n",
    "y = sigmoid(x)\n",
    "plt.plot(x, y)\n",
    "plt.ylim(-0.1, 1.1)\n",
    "plt.show()"
   ]
  },
  {
   "cell_type": "markdown",
   "id": "e829dcde",
   "metadata": {},
   "source": [
    "# ReLu関数"
   ]
  },
  {
   "cell_type": "code",
   "execution_count": 16,
   "id": "28a0b4ba",
   "metadata": {},
   "outputs": [],
   "source": [
    "def relu(x):\n",
    "    return np.maximum(0, x)\n"
   ]
  },
  {
   "cell_type": "code",
   "execution_count": 19,
   "id": "820bf793",
   "metadata": {},
   "outputs": [
    {
     "data": {
      "image/png": "[encoded data removed]",
      "text/plain": [
       "<Figure size 432x288 with 1 Axes>"
      ]
     },
     "metadata": {
      "needs_background": "light"
     },
     "output_type": "display_data"
    }
   ],
   "source": [
    "x = np.arange(-5.0, 5.0, 0.1)\n",
    "y = relu(x)\n",
    "plt.plot(x, y)\n",
    "plt.ylim(-1, 5.1)\n",
    "plt.show()"
   ]
  },
  {
   "cell_type": "code",
   "execution_count": null,
   "id": "9bb10f41",
   "metadata": {},
   "outputs": [],
   "source": []
  }
 ],
 "metadata": {
  "kernelspec": {
   "display_name": "Python 3",
   "language": "python",
   "name": "python3"
  },
  "language_info": {
   "codemirror_mode": {
    "name": "ipython",
    "version": 3
   },
   "file_extension": ".py",
   "mimetype": "text/x-python",
   "name": "python",
   "nbconvert_exporter": "python",
   "pygments_lexer": "ipython3",
   "version": "3.8.10"
  }
 },
 "nbformat": 4,
 "nbformat_minor": 5
}
