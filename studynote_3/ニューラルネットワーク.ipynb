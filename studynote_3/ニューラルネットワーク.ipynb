{
 "cells": [
  {
   "cell_type": "markdown",
   "id": "22cb06c5",
   "metadata": {},
   "source": [
    "# パーセプトロンの復習"
   ]
  },
  {
   "cell_type": "markdown",
   "id": "a86612c5",
   "metadata": {},
   "source": [
    "$$\n",
    "    y =\n",
    "        \\begin{cases}\n",
    "            0      (b + w1x1 + w2x2　<=  0) \\\\\n",
    "             1     (b + w1x1 + w2x2  　>  0) \\\\\n",
    "        \\end{cases}\n",
    "$$"
   ]
  },
  {
   "cell_type": "markdown",
   "id": "7c39ae5e",
   "metadata": {},
   "source": [
    "- x1とx2の2つの入力信号を受け取り、yを出力する\n",
    "- w1やw2は各信号の「重み」を表すパラメータ\n",
    "- bは、バイアスと呼ばれるパラメータ"
   ]
  },
  {
   "cell_type": "markdown",
   "id": "c7012185",
   "metadata": {},
   "source": [
    "## 式を書き換える"
   ]
  },
  {
   "cell_type": "markdown",
   "id": "07ff9594",
   "metadata": {},
   "source": [
    "$$\n",
    "    y =　　h(b + w1x1 + w2 x2)\n",
    "$$"
   ]
  },
  {
   "cell_type": "markdown",
   "id": "9c7854f8",
   "metadata": {},
   "source": [
    "$$   \n",
    "    y(x) = \n",
    "        \\begin{cases}\n",
    "             0  (x　<=  0) \\\\\n",
    "             1  (x  　>  0) \\\\\n",
    "        \\end{cases}\n",
    "$$"
   ]
  },
  {
   "cell_type": "markdown",
   "id": "dbb7c331",
   "metadata": {},
   "source": [
    "- 入力信号の総和がh(x)という関数によって変換され、その変換された値が出力yになる"
   ]
  },
  {
   "cell_type": "markdown",
   "id": "9748fa69",
   "metadata": {},
   "source": [
    "## 活性化関数の登場"
   ]
  },
  {
   "cell_type": "code",
   "execution_count": null,
   "id": "232c249b",
   "metadata": {},
   "outputs": [],
   "source": []
  }
 ],
 "metadata": {
  "kernelspec": {
   "display_name": "Python 3",
   "language": "python",
   "name": "python3"
  },
  "language_info": {
   "codemirror_mode": {
    "name": "ipython",
    "version": 3
   },
   "file_extension": ".py",
   "mimetype": "text/x-python",
   "name": "python",
   "nbconvert_exporter": "python",
   "pygments_lexer": "ipython3",
   "version": "3.8.10"
  }
 },
 "nbformat": 4,
 "nbformat_minor": 5
}
